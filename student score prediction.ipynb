{
 "cells": [
  {
   "cell_type": "markdown",
   "id": "69a18967",
   "metadata": {},
   "source": [
    "## GRIP: The Sparks Foundation"
   ]
  },
  {
   "cell_type": "markdown",
   "id": "21a09231",
   "metadata": {},
   "source": [
    "#### Data Science & Business Analytics Internship\n",
    "\n",
    "\n",
    "### Task 1: Predicting Student Score; Using Supervised Machine Learning - Linear Regression Algorithm\n",
    "\n",
    "#### Author: Michael Okoyenta\n",
    "\n",
    "Dataset link: http://bit.ly/w-data "
   ]
  },
  {
   "cell_type": "markdown",
   "id": "4a8b5e9f",
   "metadata": {},
   "source": [
    "Importing Dependencies"
   ]
  },
  {
   "cell_type": "code",
   "execution_count": 1,
   "id": "1a851966",
   "metadata": {},
   "outputs": [],
   "source": [
    "import pandas as pd\n",
    "import matplotlib.pyplot as plt\n",
    "%matplotlib inline"
   ]
  },
  {
   "cell_type": "code",
   "execution_count": 2,
   "id": "021c43fe",
   "metadata": {},
   "outputs": [
    {
     "data": {
      "text/html": [
       "<div>\n",
       "<style scoped>\n",
       "    .dataframe tbody tr th:only-of-type {\n",
       "        vertical-align: middle;\n",
       "    }\n",
       "\n",
       "    .dataframe tbody tr th {\n",
       "        vertical-align: top;\n",
       "    }\n",
       "\n",
       "    .dataframe thead th {\n",
       "        text-align: right;\n",
       "    }\n",
       "</style>\n",
       "<table border=\"1\" class=\"dataframe\">\n",
       "  <thead>\n",
       "    <tr style=\"text-align: right;\">\n",
       "      <th></th>\n",
       "      <th>Hours</th>\n",
       "      <th>Scores</th>\n",
       "    </tr>\n",
       "  </thead>\n",
       "  <tbody>\n",
       "    <tr>\n",
       "      <th>0</th>\n",
       "      <td>2.5</td>\n",
       "      <td>21</td>\n",
       "    </tr>\n",
       "    <tr>\n",
       "      <th>1</th>\n",
       "      <td>5.1</td>\n",
       "      <td>47</td>\n",
       "    </tr>\n",
       "    <tr>\n",
       "      <th>2</th>\n",
       "      <td>3.2</td>\n",
       "      <td>27</td>\n",
       "    </tr>\n",
       "    <tr>\n",
       "      <th>3</th>\n",
       "      <td>8.5</td>\n",
       "      <td>75</td>\n",
       "    </tr>\n",
       "    <tr>\n",
       "      <th>4</th>\n",
       "      <td>3.5</td>\n",
       "      <td>30</td>\n",
       "    </tr>\n",
       "  </tbody>\n",
       "</table>\n",
       "</div>"
      ],
      "text/plain": [
       "   Hours  Scores\n",
       "0    2.5      21\n",
       "1    5.1      47\n",
       "2    3.2      27\n",
       "3    8.5      75\n",
       "4    3.5      30"
      ]
     },
     "execution_count": 2,
     "metadata": {},
     "output_type": "execute_result"
    }
   ],
   "source": [
    "df = pd.read_csv('student_score.csv')\n",
    "df.head()"
   ]
  },
  {
   "cell_type": "markdown",
   "id": "37679696",
   "metadata": {},
   "source": [
    "#### Data Visualisation"
   ]
  },
  {
   "cell_type": "markdown",
   "id": "44da705f",
   "metadata": {},
   "source": [
    "Correlation chart of student study hours against their exam scores"
   ]
  },
  {
   "cell_type": "code",
   "execution_count": 3,
   "id": "63d4b28e",
   "metadata": {},
   "outputs": [
    {
     "data": {
      "text/plain": [
       "Text(0, 0.5, 'Scores')"
      ]
     },
     "execution_count": 3,
     "metadata": {},
     "output_type": "execute_result"
    },
    {
     "data": {
      "image/png": "[encoded data removed]",
      "text/plain": [
       "<Figure size 432x288 with 1 Axes>"
      ]
     },
     "metadata": {
      "needs_background": "light"
     },
     "output_type": "display_data"
    }
   ],
   "source": [
    "plt.scatter(df.Hours, df.Scores)\n",
    "plt.title('Correlation chart of student study hours against their exam scores')\n",
    "plt.xlabel('Hours')\n",
    "plt.ylabel('Scores')"
   ]
  },
  {
   "cell_type": "markdown",
   "id": "5606c1ab",
   "metadata": {},
   "source": [
    "From the above scatter plot, their is a positive linear relation between study hours and student score. The high the study hours the high the score."
   ]
  },
  {
   "cell_type": "code",
   "execution_count": 18,
   "id": "67ec3bde",
   "metadata": {},
   "outputs": [
    {
     "name": "stdout",
     "output_type": "stream",
     "text": [
      "The dataset contain 25 rows, and 2 columns\n"
     ]
    },
    {
     "data": {
      "text/plain": [
       "(25, 2)"
      ]
     },
     "execution_count": 18,
     "metadata": {},
     "output_type": "execute_result"
    }
   ],
   "source": [
    "print('The dataset contain 25 rows, and 2 columns')\n",
    "df.shape"
   ]
  },
  {
   "cell_type": "markdown",
   "id": "91b077c4",
   "metadata": {},
   "source": [
    "#### Splitting the Dataset\n",
    "\n",
    "Using Scikit-Learn's built-in train_test_split() method\n",
    "\n",
    "x = Independent Variable\n",
    "\n",
    "y = Dependent Variable"
   ]
  },
  {
   "cell_type": "code",
   "execution_count": 5,
   "id": "104a54aa",
   "metadata": {},
   "outputs": [],
   "source": [
    "x = df[['Hours']].values\n",
    "y = df.Scores"
   ]
  },
  {
   "cell_type": "code",
   "execution_count": 6,
   "id": "4431e14d",
   "metadata": {},
   "outputs": [],
   "source": [
    "from sklearn.model_selection import train_test_split\n",
    "x_train, x_test, y_train, y_test = train_test_split(x, y, test_size=0.2, random_state=0)"
   ]
  },
  {
   "cell_type": "code",
   "execution_count": 17,
   "id": "c1fba69e",
   "metadata": {},
   "outputs": [
    {
     "name": "stdout",
     "output_type": "stream",
     "text": [
      "We split the dataset into 2, training data 20(80%), while test data 5(20%)\n"
     ]
    },
    {
     "data": {
      "text/plain": [
       "(20, 1)"
      ]
     },
     "execution_count": 17,
     "metadata": {},
     "output_type": "execute_result"
    }
   ],
   "source": [
    "print('We split the dataset into 2, training data 20(80%), while test data 5(20%)') \n",
    "x_train.shape"
   ]
  },
  {
   "cell_type": "markdown",
   "id": "79a71d89",
   "metadata": {},
   "source": [
    "#### Training the Model\n",
    "\n",
    "Using Linear Regression Algorithm"
   ]
  },
  {
   "cell_type": "code",
   "execution_count": 16,
   "id": "7e2892aa",
   "metadata": {},
   "outputs": [
    {
     "name": "stdout",
     "output_type": "stream",
     "text": [
      "Trained successfully\n"
     ]
    }
   ],
   "source": [
    "from sklearn.linear_model import LinearRegression\n",
    "model = LinearRegression()\n",
    "model.fit(x_train, y_train)\n",
    "print('Trained successfully')"
   ]
  },
  {
   "cell_type": "markdown",
   "id": "3221f20c",
   "metadata": {},
   "source": [
    "#### PLotting a Linear Regression Line"
   ]
  },
  {
   "cell_type": "code",
   "execution_count": 10,
   "id": "e346d81b",
   "metadata": {},
   "outputs": [
    {
     "data": {
      "text/plain": [
       "Text(0, 0.5, 'Scores')"
      ]
     },
     "execution_count": 10,
     "metadata": {},
     "output_type": "execute_result"
    },
    {
     "data": {
      "image/png": "[encoded data removed]",
      "text/plain": [
       "<Figure size 432x288 with 1 Axes>"
      ]
     },
     "metadata": {
      "needs_background": "light"
     },
     "output_type": "display_data"
    }
   ],
   "source": [
    "plt.scatter(df.Hours, df.Scores, cmap='')\n",
    "plt.plot(df.Hours, model.predict(df[['Hours']].values))\n",
    "plt.title('Linear Regression Line')\n",
    "plt.xlabel('Hours')\n",
    "plt.ylabel('Scores')"
   ]
  },
  {
   "cell_type": "markdown",
   "id": "5ec9c459",
   "metadata": {},
   "source": [
    "#### Predicted Score Vs Actual Score"
   ]
  },
  {
   "cell_type": "code",
   "execution_count": 11,
   "id": "f452c721",
   "metadata": {},
   "outputs": [
    {
     "data": {
      "text/html": [
       "<div>\n",
       "<style scoped>\n",
       "    .dataframe tbody tr th:only-of-type {\n",
       "        vertical-align: middle;\n",
       "    }\n",
       "\n",
       "    .dataframe tbody tr th {\n",
       "        vertical-align: top;\n",
       "    }\n",
       "\n",
       "    .dataframe thead th {\n",
       "        text-align: right;\n",
       "    }\n",
       "</style>\n",
       "<table border=\"1\" class=\"dataframe\">\n",
       "  <thead>\n",
       "    <tr style=\"text-align: right;\">\n",
       "      <th></th>\n",
       "      <th>Actual_score</th>\n",
       "      <th>Predicted_score</th>\n",
       "    </tr>\n",
       "  </thead>\n",
       "  <tbody>\n",
       "    <tr>\n",
       "      <th>0</th>\n",
       "      <td>20</td>\n",
       "      <td>16.884145</td>\n",
       "    </tr>\n",
       "    <tr>\n",
       "      <th>1</th>\n",
       "      <td>27</td>\n",
       "      <td>33.732261</td>\n",
       "    </tr>\n",
       "    <tr>\n",
       "      <th>2</th>\n",
       "      <td>69</td>\n",
       "      <td>75.357018</td>\n",
       "    </tr>\n",
       "    <tr>\n",
       "      <th>3</th>\n",
       "      <td>30</td>\n",
       "      <td>26.794801</td>\n",
       "    </tr>\n",
       "    <tr>\n",
       "      <th>4</th>\n",
       "      <td>62</td>\n",
       "      <td>60.491033</td>\n",
       "    </tr>\n",
       "  </tbody>\n",
       "</table>\n",
       "</div>"
      ],
      "text/plain": [
       "   Actual_score  Predicted_score\n",
       "0            20        16.884145\n",
       "1            27        33.732261\n",
       "2            69        75.357018\n",
       "3            30        26.794801\n",
       "4            62        60.491033"
      ]
     },
     "execution_count": 11,
     "metadata": {},
     "output_type": "execute_result"
    }
   ],
   "source": [
    "test_df = pd.DataFrame({'Actual_score': y_test.values, 'Predicted_score': model.predict(x_test)}) \n",
    "test_df"
   ]
  },
  {
   "cell_type": "markdown",
   "id": "c3ceb25a",
   "metadata": {},
   "source": [
    "#### What will be predicted score if a student studies for 9.25 hrs/ day?"
   ]
  },
  {
   "cell_type": "code",
   "execution_count": 20,
   "id": "0b3cb8d2",
   "metadata": {},
   "outputs": [
    {
     "name": "stdout",
     "output_type": "stream",
     "text": [
      "The score will be 71\n"
     ]
    }
   ],
   "source": [
    "import math\n",
    "hours = 7\n",
    "print('The score will be', \n",
    "    math.floor(model.predict([[hours]])))\n"
   ]
  },
  {
   "cell_type": "markdown",
   "id": "8ba8abae",
   "metadata": {},
   "source": [
    "### Model performance; Using \n",
    "\n",
    " **a. Accuracy score &**\n",
    " \n",
    " **b. Mean Absolute Error**"
   ]
  },
  {
   "cell_type": "code",
   "execution_count": 13,
   "id": "1c428002",
   "metadata": {
    "scrolled": true
   },
   "outputs": [
    {
     "name": "stdout",
     "output_type": "stream",
     "text": [
      "The model performance, using Accuracy score is 0.95%\n"
     ]
    }
   ],
   "source": [
    "p = model.score(x_test, y_test)\n",
    "print('The model performance, using Accuracy score is {}%'.format(round(p, 2)))"
   ]
  },
  {
   "cell_type": "code",
   "execution_count": 14,
   "id": "a21aba9d",
   "metadata": {},
   "outputs": [
    {
     "name": "stdout",
     "output_type": "stream",
     "text": [
      "Mean Absolute Error: 4.183859899002975\n"
     ]
    }
   ],
   "source": [
    "from sklearn import metrics\n",
    "print('Mean Absolute Error:',\n",
    "metrics.mean_absolute_error(y_test, test_df.Predicted_score))"
   ]
  },
  {
   "cell_type": "code",
   "execution_count": 19,
   "id": "c0f1eb8d",
   "metadata": {},
   "outputs": [
    {
     "data": {
      "text/plain": [
       "Text(0, 0.5, 'Scores')"
      ]
     },
     "execution_count": 19,
     "metadata": {},
     "output_type": "execute_result"
    },
    {
     "data": {
      "image/png": "[encoded data removed]",
      "text/plain": [
       "<Figure size 432x288 with 1 Axes>"
      ]
     },
     "metadata": {
      "needs_background": "light"
     },
     "output_type": "display_data"
    }
   ],
   "source": [
    "plt.scatter(df.Hours, df.Scores, cmap='')\n",
    "plt.plot(df.Hours, model.predict(df[['Hours']].values))\n",
    "plt.title('Linear Regression Line')\n",
    "plt.xlabel('Hours')\n",
    "plt.ylabel('Scores')\n"
   ]
  },
  {
   "cell_type": "markdown",
   "id": "f0aec665",
   "metadata": {},
   "source": [
    "**Mean Absolate error**: is the magnitude of difference between the prediction of an observation and the true value of that observation."
   ]
  }
 ],
 "metadata": {
  "kernelspec": {
   "display_name": "Python 3 (ipykernel)",
   "language": "python",
   "name": "python3"
  },
  "language_info": {
   "codemirror_mode": {
    "name": "ipython",
    "version": 3
   },
   "file_extension": ".py",
   "mimetype": "text/x-python",
   "name": "python",
   "nbconvert_exporter": "python",
   "pygments_lexer": "ipython3",
   "version": "3.9.12"
  }
 },
 "nbformat": 4,
 "nbformat_minor": 5
}
